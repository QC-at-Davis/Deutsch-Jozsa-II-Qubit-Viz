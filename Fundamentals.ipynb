{
 "cells": [
  {
   "cell_type": "markdown",
   "id": "3ba146fd-188e-465a-9f48-b7c3f75338ee",
   "metadata": {},
   "source": [
    "$$\n",
    "\\newcommand{\\ket}[1]{\\left|{#1}\\right\\rangle}\n",
    "\\newcommand{\\bra}[1]{\\left\\langle{#1}\\right|}\n",
    "\\newcommand{\\braket}[2]{\\left\\langle{#1}\\middle|{#2}\\right\\rangle}\n",
    "$$"
   ]
  },
  {
   "cell_type": "code",
   "execution_count": null,
   "id": "7f6831fc-4538-48cf-a612-aa13f4db0deb",
   "metadata": {},
   "outputs": [],
   "source": [
    "import numpy as np\n",
    "import npquantum as npq"
   ]
  },
  {
   "cell_type": "markdown",
   "id": "d9a52e09-b2cc-4fdd-8697-c6fc0e15f0ac",
   "metadata": {},
   "source": [
    "## Individual Qubit States"
   ]
  },
  {
   "cell_type": "markdown",
   "id": "25734174-e25a-4950-a92b-ef80fa84bf24",
   "metadata": {},
   "source": [
    "* Kets, represented like so: $\\ket{\\psi}$ represent column vectors and are orthonormal (orthogonal to eachother and unit vectors with length 1)"
   ]
  },
  {
   "cell_type": "code",
   "execution_count": null,
   "id": "86283056-d83c-4b6b-ab73-70fe63d8a27e",
   "metadata": {},
   "outputs": [],
   "source": [
    "ket0 = np.array([[1],[0]])\n",
    "ket1 = np.array([[0],[1]])"
   ]
  },
  {
   "cell_type": "markdown",
   "id": "4ead422c-33a2-439b-b616-ecfdcb9f5833",
   "metadata": {},
   "source": [
    "* arbitrary qubit states are represented as a superposition of basis kets With complex-valued coefficients\n",
    "  * These coefficients are also known as \"probability amplitudes\"\n",
    "$$\\ket{\\psi} = \\alpha\\ket{0} + \\beta\\ket{1}$$\n",
    "* In the example below, they are real valued but they can also have complex numbers"
   ]
  },
  {
   "cell_type": "code",
   "execution_count": null,
   "id": "65e8c9ed-e699-4664-a3b7-e4585fc0a839",
   "metadata": {},
   "outputs": [],
   "source": [
    "alpha_real = 1/np.sqrt(2)\n",
    "beta_real = 1/np.sqrt(2)\n",
    "ket_with_real_coefficients = (alpha_real * ket0) + (beta_real * ket1)\n",
    "\n",
    "# NOTE: In python, complex numbers are expressed with 'j' and MUST be accompanied with some coefficient \n",
    "# in front of it (like 1j, 2j, 3.5j, etc.) \n",
    "alpha_complex = 1j/np.sqrt(2)\n",
    "beta_complex = 1j/np.sqrt(2)\n",
    "ket_with_complex_coefficients = (alpha_complex * ket0) + (beta_complex * ket1)"
   ]
  },
  {
   "cell_type": "code",
   "execution_count": null,
   "id": "405c49e8-a45f-417d-8af9-d6c8aa2c90b1",
   "metadata": {},
   "outputs": [],
   "source": [
    "print(\"Qubit state with real coefficients\")\n",
    "print(ket_with_real_coefficients)\n",
    "print(\"Qubit state with complex coefficients\")\n",
    "print(ket_with_complex_coefficients)"
   ]
  },
  {
   "cell_type": "markdown",
   "id": "0b35401d-31f9-49ae-a001-8eedd5a8e7a6",
   "metadata": {},
   "source": [
    "* Taking the magnitude squared of the coefficients gives the probability that the qubit will \"collapse\" into either the 0 or 1 state from its original superposition\n",
    "* The sum of each coefficient's magnitude squared MUST equal 1 (known as the normalization condition)\n",
    " $$|\\alpha|^2 + |\\beta|^2 = 1$$\n",
    "* NOTE: You will notice the numbers printed don't come out to exactly 0.5 or 1. This is purely due to floating point representation error"
   ]
  },
  {
   "cell_type": "code",
   "execution_count": null,
   "id": "8c304f61-0b34-4713-99af-f664f13e5b01",
   "metadata": {},
   "outputs": [],
   "source": [
    "print(\"Probability of collapsing into |0>, given by |alpha|^2: {0}\".format(np.abs(alpha_complex)**2))\n",
    "print(\"Probability of collapsing into |1>, given by |beta|^2 : {0}\".format(np.abs(beta_complex)**2))\n",
    "print(\"All probabilities should sum to 1 so |alpha|^2 + |beta|^2 = 1: {0}\".format(np.abs(alpha_complex)**2 + np.abs(beta_complex)**2))"
   ]
  },
  {
   "cell_type": "markdown",
   "id": "cff0d43f-1817-4671-a8a7-a4474ce71535",
   "metadata": {},
   "source": [
    "# Representing Multiple Qubit States"
   ]
  },
  {
   "cell_type": "markdown",
   "id": "8d1743b9-5798-4b64-909f-514f2dad5d6e",
   "metadata": {},
   "source": [
    "Tensor Product (Please refer to the cell below for more information)\n",
    "\n",
    "$$\n",
    "\\begin{pmatrix}\n",
    "a \\\\\n",
    "b \\\\\n",
    "\\end{pmatrix}\n",
    "\\otimes\n",
    "\\begin{pmatrix}\n",
    "c \\\\\n",
    "d \\\\\n",
    "\\end{pmatrix}\n",
    "= \n",
    "\\begin{pmatrix}\n",
    "a \\cdot \\begin{pmatrix} c \\\\ d \\end{pmatrix} \\\\\n",
    "b \\cdot \\begin{pmatrix} c \\\\ d \\end{pmatrix}\n",
    "\\end {pmatrix}\n",
    "= \n",
    "\\begin{pmatrix}\n",
    "ac \\\\ ad \\\\ bc \\\\ bd \\\\\n",
    "\\end {pmatrix}\n",
    "$$"
   ]
  },
  {
   "cell_type": "markdown",
   "id": "b6f3c9dd-5ddb-470f-b812-87dd06e5376f",
   "metadata": {},
   "source": [
    "* If you have two or more qubits, you just take the tensor product of the two qubits\n",
    "* In the Dirac Bra-Ket notation, this is the equivalent to combining two kets sitting next to eachother\n",
    "$$\\ket{0} \\otimes \\ket{0} = \\ket{0}\\ket{0} = \\ket{00}$$\n",
    "* NOTE: the `kron` function provided by numpy can be treated as performing the tensor product for our purposes, however, there is a distinction between the tensor and kronecker product"
   ]
  },
  {
   "cell_type": "code",
   "execution_count": null,
   "id": "2cc82547-f9f9-4613-9373-31985e3cec1b",
   "metadata": {},
   "outputs": [],
   "source": [
    "# |0>|0> = |00>\n",
    "\n",
    "np.kron(ket0, ket0)"
   ]
  },
  {
   "cell_type": "code",
   "execution_count": null,
   "id": "6c1b563c-6f3d-456d-9ae8-c5f2023f0074",
   "metadata": {},
   "outputs": [],
   "source": [
    "# |1>|0> = |10>\n",
    "\n",
    "np.kron(ket1, ket0)"
   ]
  },
  {
   "cell_type": "code",
   "execution_count": null,
   "id": "1b0ffab2-793c-4a6d-afb4-654557438d70",
   "metadata": {},
   "outputs": [],
   "source": [
    "# EXERCISE: What does the resulting vector for |1>|1> look like?\n",
    "# You are encouraged to do this on pen and paper first and then numpy to verify your result"
   ]
  },
  {
   "cell_type": "markdown",
   "id": "bdc13ca0-9791-4664-b077-64dd744427c9",
   "metadata": {},
   "source": [
    "## The Probability of Measuring the Qubit in a Certain State"
   ]
  },
  {
   "cell_type": "markdown",
   "id": "033a67e5-bc1c-46c7-984a-d2da4f96ccef",
   "metadata": {},
   "source": [
    "__Sources: [Qiskit Textbook, Section 1.3 \"Representing Qubit States\", Subsection \"Rules of Measurement\"](https://qiskit.org/textbook/ch-states/representing-qubit-states.html#2.-The-Rules-of-Measurement-)__"
   ]
  },
  {
   "cell_type": "markdown",
   "id": "5afed8b0-afaf-40c7-b339-9bd96dab8045",
   "metadata": {},
   "source": [
    "* Note that althought |0> and |1> are the states we are most interested in seeing the qubit collapse to, you can pick any other unit vector you like and find the probability that the qubit will collapse to that vector\n",
    "  * In many texts, there will be the notion of \"measuring in the computational basis\" which means measuring if the qubit will collapse to |0> or |1>. However, you can change the measurement basis to any other orthogonal vectors you like with some additional manipulation. We won't be doing that here but it will come up in a future workshop. \n",
    "* To do that we have to introduce the bra, which is the complex conjugate transpose of any ket, represented as a ket facing the other way\n",
    "$$(\\ket{x}^{\\ast})^{T} = (\\ket{x}^{T})^{\\ast} = \\bra{x}$$\n",
    "* Every ket always has an associated bra"
   ]
  },
  {
   "cell_type": "code",
   "execution_count": null,
   "id": "8157ac93-7b7d-4540-96c7-aa0322bcc343",
   "metadata": {},
   "outputs": [],
   "source": [
    "# (|x>*)^T = (|x>^T)* = < x |\n",
    "bra0 = ket0.conjugate().T\n",
    "\n",
    "np.array_equal(ket0.conjugate().T,ket0.T.conjugate())"
   ]
  },
  {
   "cell_type": "markdown",
   "id": "e5ebb024-7c32-4bab-a242-e783cd67db69",
   "metadata": {},
   "source": [
    "* To get the probability that the qubit (represented as $\\ket{\\psi}$ is in a certain state we take a state of interest, say:\n",
    "$$\\ket{x}$$\n",
    "* We convert it to a bra first:\n",
    "$$(\\ket{x}^{\\ast})^T = \\bra{x}$$\n",
    "* And we *multiply the bra with the ket* which is the equivalent of taking the __inner product__ between the two\n",
    "  * To get a real-valued probability (a value that makes sense to us) we need to take the magnitude squared of it too!\n",
    "$$ |\\braket{x}{\\psi}|^2$$\n",
    "* This is geometrically equivalent to asking *how much does the row vector the bra is representing overlap with the column vector?* "
   ]
  },
  {
   "cell_type": "code",
   "execution_count": null,
   "id": "6643bd1b-b7d8-4fe5-98d5-ae62665f614e",
   "metadata": {},
   "outputs": [],
   "source": [
    "# Don't worry about what's going on here, we're just applying a transformation to the qubit\n",
    "# That will be explained in the Qubit-Visualization Notebook\n",
    "random_qubit = npq.Rx(np.pi/5) @ ket0\n",
    "\n",
    "# Let's generate bras for the states of interest\n",
    "bra0 = ket0.conjugate().T\n",
    "bra1 = ket1.conjugate().T\n",
    "\n",
    "# Take the inner product, then take the magnitude squared\n",
    "# In this case, what is the probability that \"random_qubit\" will be measured in ket0?\n",
    "# NOTE: The funky \"[0][0]\" is just some indexing going on and can be ignored\n",
    "print(\"Probability of measuring |0>:{0}\".format((np.abs(bra0 @ random_qubit)**2)[0][0]))\n",
    "# What is the probability that random_qubit will be measured in ket 1?\n",
    "print(\"Probability of measuring |1>:{0}\".format((np.abs(bra1 @ random_qubit)**2)[0][0]))\n",
    "\n",
    "# Note that the normalization condition must still hold so the sum of the probabilities must add up to 1\n",
    "# Once again, the sum does not equal 1 exactly due to floating point error\n",
    "(np.abs(bra0 @ random_qubit)**2)[0][0] + (np.abs(bra1 @ random_qubit)**2)[0][0]"
   ]
  },
  {
   "cell_type": "markdown",
   "id": "9e164f26-6c0c-4c28-b06d-dc4d8140d57c",
   "metadata": {},
   "source": [
    "## Phase"
   ]
  },
  {
   "cell_type": "markdown",
   "id": "e4f9eb69-0a2d-4b7c-86fa-977fc6d994d8",
   "metadata": {},
   "source": [
    "__Sources__: \n",
    "* Nielsen & Chuang, \"Quantum Computation and Quantum Information\", 10th anniversary ed. p.93, section 2.2.7 \"Phase\"\n",
    "* [Quantum Computing Lecture 1, Bits & Qubits by Dr.Maris Ozols, University of Cambridge](https://www.cl.cam.ac.uk/teaching/1617/QuantComp/slides1.pdf)"
   ]
  },
  {
   "cell_type": "markdown",
   "id": "69a81456-eec3-4886-bd83-cea25a675fc9",
   "metadata": {},
   "source": [
    "* There are 2 kinds of phase, *global* and *relative*\n",
    "* If we take $re^{i\\theta}$ (where $\\theta \\in [0, 2\\pi]$ and $r \\in \\mathbb{R}$) to represent a complex number, $e^{i\\theta}$ represents the phase component\n",
    "* If we multiply an entire qubit by a phase, there is no measurable difference in state and can be considered equivalent to its original state\n",
    "$$e^{i\\theta}\\ket{\\psi} = e^{i\\theta}\\alpha\\ket{0} + e^{i\\theta}\\beta\\ket{1} = \\alpha\\ket{0} + \\beta\\ket{1}$$\n",
    "* This is because, for all complex coefficients of the qubit:\n",
    "$$|e^{i\\theta}\\alpha|^2 = |\\alpha|^2$$"
   ]
  },
  {
   "cell_type": "code",
   "execution_count": null,
   "id": "97688ba5-9719-44a0-9593-1ec17a9f90a0",
   "metadata": {},
   "outputs": [],
   "source": [
    "alpha = 1/np.sqrt(2)\n",
    "beta = 1/np.sqrt(2)\n",
    "# Create a qubit in some arbitrary state\n",
    "qubit = alpha * ket0 + beta * ket1\n",
    "# Check what the magnitude squared of the qubits are\n",
    "print(\"Probability of measuring |0>: \", np.abs(alpha)**2)\n",
    "print(\"Probability of measuring |1>: \", np.abs(beta)**2)\n",
    "\n",
    "# Now we apply a global phase\n",
    "global_phase = np.e**(1j*(np.pi/2)) # equivalent to just \"i\", remember that this is equivalent to cos(theta) + i*sin(theta)\n",
    "global_phase_applied_alpha = global_phase * alpha\n",
    "global_phase_applied_beta = global_phase * beta\n",
    "print(\"Probability of measuring |0> (with global phase): \", np.abs(global_phase_applied_alpha)**2)\n",
    "print(\"Probability of measuring |1>: (with global phase): \", np.abs(global_phase_applied_beta)**2)\n",
    "\n",
    "# An equivalent way of doing this would also be:\n",
    "qubit_with_global_phase = global_phase * qubit\n",
    "print(\"Probability of measuring |0> (with global phase): \", (np.abs(bra0 @ qubit_with_global_phase))[0][0]**2)\n",
    "print(\"Probability of measuring |1> (with global phase): \", (np.abs(bra1 @ qubit_with_global_phase))[0][0]**2)"
   ]
  },
  {
   "cell_type": "markdown",
   "id": "d177077f-d588-489c-aa84-501e208e4cb3",
   "metadata": {},
   "source": [
    "* The following two qubit states differ by a *relative phase*\n",
    "$$\\frac{\\ket{0} + \\ket{1}}{\\sqrt{2}} \\qquad \\frac{\\ket{0} - \\ket{1}}{\\sqrt{2}}$$\n",
    "* \"The difference between relative phase factors and global phase factors is that for relative phase the phase factors may vary from amplitude to amplitude\" - Nielsen & Chuang, \"Quantum Computation and Quantum Information\", 10th anniversary, p.93\n",
    "  * Recall that global phase gets applied equally to ALL probability amplitudes whereas here, the coefficient for $\\ket{0}$ remains unaffected but $\\ket{1}$ differs\n",
    "* If you perform measurements on the above states in the computational basis ($\\ket{0}$ and $\\ket{1}$) you will find you'll still have a 50/50 chance of measuring the qubit in those states\n",
    "* BUT, if you choose another basis the phase IS detectable!"
   ]
  },
  {
   "cell_type": "markdown",
   "id": "838cada0-83dd-4e19-83d0-5ed3693a1a66",
   "metadata": {},
   "source": [
    "## Gates"
   ]
  },
  {
   "cell_type": "markdown",
   "id": "54ca5080-b6a2-40c2-984d-cc3c6bc7211e",
   "metadata": {},
   "source": [
    "* We want to manipulate our qubits to do useful stuff\n",
    "* Manipulation is accomplished through quantum gates, which are mathematically represented as unitary matrices\n",
    "  * For a singule qubit, the matrix will be a 2x2 matrix\n",
    "* Unitary matrices follow the following property, with $A$ being the matrix and $I$ being the Identity matrix:\n",
    "$$A^\\dagger A = A A^\\dagger = I$$\n",
    "* Where the \"dagger\" symbol means the hermitian adjoint, which is where you take the complex conjugate transpose of the matrix\n",
    "* A key property of unitary matrices is they preserve the length of the unit vector that represents a qubit state\n",
    "  * The probability amplitudes will change but they will still obey the normalization constratin that $|\\alpha|^2 + |\\beta|^2 = 1$\n",
    "  * If the complex conjugate transpose sounds familiar, it's because that's what we do when turing kets to bras! In other texts you may find that the \"dagger\" is also used to represent the transform: $\\ket{\\psi}^\\dagger = \\bra{\\psi}$ but this turns out not to be a wholly correct usage of notation. See \"Hermitian conjugate of kets\" under \"Pitfalls and ambiguous uses\" on the [Wikipedia entry for Bra-ket notation](https://en.wikipedia.org/wiki/Bra%E2%80%93ket_notation)"
   ]
  },
  {
   "cell_type": "markdown",
   "id": "40ddc45a-e5af-4d17-bbba-941ec80c3a9a",
   "metadata": {},
   "source": [
    "* For the purpose of introducing the topic, as well as the Deutsch-Jozsa explanation, there are two gates you should be familiar with:\n",
    "* The `X` gate:\n",
    "$$\n",
    "X = \n",
    "\\begin{pmatrix}\n",
    "0 & 1 \\\\\n",
    "1 & 0 \\\\\n",
    "\\end{pmatrix}\n",
    "$$\n",
    "  * This gate can be treated like the classical `NOT` gate. If your qubit is in $\\ket{0}$, applying `X` brings you to $\\ket{1}$ and vice versa.\n",
    "  * To \"apply\" a gate to a qubit you just multiply it with the state ket in question\n",
    "  \n",
    "$$ X\\ket{0} = 1$$\n",
    "$$ X\\ket{1} = 0$$"
   ]
  },
  {
   "cell_type": "code",
   "execution_count": null,
   "id": "6d056472-9c35-44da-836c-a693756fc859",
   "metadata": {},
   "outputs": [],
   "source": [
    "# X gate\n",
    "npq.X"
   ]
  },
  {
   "cell_type": "code",
   "execution_count": null,
   "id": "ca525f84-2a01-4696-867a-bb92a9a8cc2b",
   "metadata": {},
   "outputs": [],
   "source": [
    "# X|0> = |1>\n",
    "npq.X @ ket0"
   ]
  },
  {
   "cell_type": "code",
   "execution_count": null,
   "id": "645c1cee-db8b-454c-b22e-c671f592ba8e",
   "metadata": {},
   "outputs": [],
   "source": [
    "# X|1> = |0>\n",
    "npq.X @ ket1"
   ]
  },
  {
   "cell_type": "markdown",
   "id": "8f005ded-5aa6-4e89-855b-ba8b3558b28a",
   "metadata": {},
   "source": [
    "* The `H` gate, with `H` = Hadamard\n",
    "$$H = \\frac{1}{\\sqrt{2}} \\begin{pmatrix} 1 & 1 \\\\ 1 & -1 \\\\ \\end{pmatrix}$$\n",
    "* The H gate is used very frequently in Quantum Computing because given a qubit in a basis state such as $\\ket{0}$ or $\\ket{1}$, it creates an equal superposition state\n",
    "\n",
    "$$H\\ket{0} = \\frac{\\ket{0} + \\ket{1}}{\\sqrt{2}}$$\n",
    "$$H\\ket{1} = \\frac{\\ket{0} - \\ket{1}}{\\sqrt{2}}$$\n",
    "\n",
    "* In fact, the superposition states from the Hadamard gate come up so frequently in quantum computing that the resulting states have their very own kets!\n",
    "\n",
    "$$H\\ket{0} = \\ket{+}$$\n",
    "$$H\\ket{1} = \\ket{-}$$"
   ]
  },
  {
   "cell_type": "code",
   "execution_count": null,
   "id": "50992935-abf5-44e1-bfdd-a46852709f6b",
   "metadata": {},
   "outputs": [],
   "source": [
    "# H gate\n",
    "npq.H"
   ]
  },
  {
   "cell_type": "code",
   "execution_count": null,
   "id": "d1beef35-649b-42e6-8aca-42e1f5227560",
   "metadata": {},
   "outputs": [],
   "source": [
    "# H|0> = (|0> + |1>)/sqrt(2)\n",
    "npq.H @ ket0"
   ]
  },
  {
   "cell_type": "code",
   "execution_count": null,
   "id": "7f78fffe-637c-41e3-a288-885d152ea189",
   "metadata": {},
   "outputs": [],
   "source": [
    "# Proof that the numerical quantities displayed above are equivalent to: (|0> + |1>)/sqrt(2)\n",
    "(ket0 + ket1)/np.sqrt(2)"
   ]
  },
  {
   "cell_type": "code",
   "execution_count": null,
   "id": "9315c915-9952-4d05-ad40-fb335f9c1832",
   "metadata": {},
   "outputs": [],
   "source": [
    "# H|1> = (|0> - |1>)/sqrt(2)\n",
    "npq.H @ ket1"
   ]
  },
  {
   "cell_type": "code",
   "execution_count": null,
   "id": "08c1c872-9eb9-4d93-9494-b2366295b78c",
   "metadata": {},
   "outputs": [],
   "source": [
    "# Proof that the numerical quantities displayed above are equivalent to: (|0> - |1>)/sqrt(2)\n",
    "(ket0 - ket1)/np.sqrt(2)"
   ]
  },
  {
   "cell_type": "markdown",
   "id": "e6423329-1d49-45ff-8a08-598af8260241",
   "metadata": {},
   "source": [
    "* Say I have a system of two qubits, like the one made below:"
   ]
  },
  {
   "cell_type": "code",
   "execution_count": null,
   "id": "cc6dd1cf-f69c-4a70-b34e-9497f5ba3e55",
   "metadata": {},
   "outputs": [],
   "source": [
    "two_qubits = np.kron(ket0, ket0) # equivalent of |0>|0> = |00>\n",
    "two_qubits"
   ]
  },
  {
   "cell_type": "markdown",
   "id": "5e45857f-f173-4add-964c-433436044073",
   "metadata": {},
   "source": [
    "* What if I only want to apply a gate to ONE qubit?\n",
    "* If we naively tried something like $X\\ket{00}$ the dimensions don't match (you're trying to multiply a 2x2 matrix with a 4x1 vector)\n",
    "* BUT, we can say that the second qubit in the system just has the identity matrix applied to it (which does nothing)\n",
    "* If we take the tensor product of the two matrices: $X \\otimes I$, this gives us a 4x4 matrix that is compatible with our 4x1 vector!"
   ]
  },
  {
   "cell_type": "code",
   "execution_count": null,
   "id": "3fc348bd-2da5-4ca8-b81b-ae9d65a800e1",
   "metadata": {},
   "outputs": [],
   "source": [
    "single_qubit_gate = np.kron(npq.X, np.identity(2))"
   ]
  },
  {
   "cell_type": "code",
   "execution_count": null,
   "id": "f8705fcc-e870-44a5-be1a-89e489ab82ae",
   "metadata": {},
   "outputs": [],
   "source": [
    "single_qubit_gate"
   ]
  },
  {
   "cell_type": "code",
   "execution_count": null,
   "id": "f063b6f2-dffb-4a30-8907-cf925ece9655",
   "metadata": {},
   "outputs": [],
   "source": [
    "# Note: we started in |00> and we only applied X to the first qubit so the resulting state is\n",
    "# X|00> = X|10>\n",
    "single_qubit_gate @ two_qubits"
   ]
  },
  {
   "cell_type": "code",
   "execution_count": null,
   "id": "d417c83c-f843-4a3c-8757-76a7cab3fd94",
   "metadata": {},
   "outputs": [],
   "source": [
    "# Verify that the above is indeed |10>\n",
    "# We know |10> = |1>|0> \n",
    "np.kron(ket1, ket0)"
   ]
  },
  {
   "cell_type": "markdown",
   "id": "7c3e2503-ee3e-4748-b0e1-4784c779607d",
   "metadata": {},
   "source": [
    "* If you want to apply gates to two seperate qubits simultaneously, the procedure still holds\n",
    "  * Imagine we want to apply `X` to two qubits at the same time, then we just do $X \\otimes X$"
   ]
  },
  {
   "cell_type": "code",
   "execution_count": null,
   "id": "c15b9d7d-f7ba-42cd-8f2c-521f682af4a8",
   "metadata": {},
   "outputs": [],
   "source": [
    "XX = np.kron(npq.X, npq.X)\n",
    "XX @ np.kron(ket0, ket0) # |00>"
   ]
  },
  {
   "cell_type": "code",
   "execution_count": null,
   "id": "b8f75a20-766b-4014-a945-225eee6a8617",
   "metadata": {},
   "outputs": [],
   "source": [
    "# Verify that the above is indeed |11>\n",
    "# We know |11> = |1>|1>\n",
    "np.kron(ket1, ket1)"
   ]
  },
  {
   "cell_type": "markdown",
   "id": "c03b4e8c-fbb3-483f-bc95-0706e4d481ea",
   "metadata": {},
   "source": [
    "## Ket-Bra Representation"
   ]
  },
  {
   "cell_type": "markdown",
   "id": "6c5b0a57-346d-4f14-b371-9897af774500",
   "metadata": {},
   "source": [
    "* If you know the eigenvectors and eigenvalues of a gate, you can represent it as the outer product of kets and bras\n",
    "* Work in Progress..."
   ]
  },
  {
   "cell_type": "markdown",
   "id": "1d4a68a9-fcd9-41d0-8ed8-2c20d4087549",
   "metadata": {},
   "source": [
    "## Linearity"
   ]
  }
 ],
 "metadata": {
  "kernelspec": {
   "display_name": "Python 3.9.6 64-bit",
   "language": "python",
   "name": "python39664bit86112629e81f4dad9dd7632ff93bfb0b"
  },
  "language_info": {
   "codemirror_mode": {
    "name": "ipython",
    "version": 3
   },
   "file_extension": ".py",
   "mimetype": "text/x-python",
   "name": "python",
   "nbconvert_exporter": "python",
   "pygments_lexer": "ipython3",
   "version": "3.9.6"
  }
 },
 "nbformat": 4,
 "nbformat_minor": 5
}
