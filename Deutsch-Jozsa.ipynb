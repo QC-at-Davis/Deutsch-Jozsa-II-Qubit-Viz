{
 "cells": [
  {
   "cell_type": "markdown",
   "id": "284e5cf5-5e74-420c-82ce-2a50c375f7a2",
   "metadata": {},
   "source": [
    "# Deutsch-Jozsa\n",
    "* This is the same as Deutsch but now the input $\\ket{x}$ can be arbitrarily large (versus having to be a singular 0 or 1)\n",
    "* In the diagram below, the $\\ket{0^{\\otimes n}}$ is equivalent to just $\\ket{0} \\otimes \\ket{0} \\otimes \\ket{0} \\dots$ $n$ times\n",
    "* The same goes for the $H^{\\otimes n}$, which means a hadamard gate gets applied to all of the n qubits in the $\\ket{0}$ state"
   ]
  },
  {
   "cell_type": "markdown",
   "id": "bcaf758b-28b6-4fc9-af76-90d60e9e961f",
   "metadata": {},
   "source": [
    "Image Source: [Qiskit Textbook, Section 3.2, Deutsch-Jozsa Algorithm](https://qiskit.org/textbook/ch-algorithms/deutsch-jozsa.html)\n",
    "![Deutsch-Jozsa](images/Deutsch-Jozsa.png)"
   ]
  },
  {
   "cell_type": "markdown",
   "id": "e52002f5-ce48-4355-98e7-adf150884be2",
   "metadata": {},
   "source": [
    "## A Simplification of $U_f$\n",
    "* In the `Deutsch's-Algorithm` notebook you saw the following representation of what $U_f$ does to a qubit state\n",
    "$$U_f\\ket{x}\\ket{y} = U_f\\ket{x}\\ket{y \\oplus f(x)}$$\n",
    "* You also saw that when $f(x)$ was balanced and $\\ket{y} = \\ket{-}$, the phase of the qubit on $\\ket{x}$ got changed due to **phase kickback**\n",
    "* Nielsen and Chuang, as well as many other texts on the topic show that you can express this action on $\\ket{x}$ as the following, AS LONG AS THE SECOND QUBIT IS IN THE $\\ket{-}$ state:\n",
    "\n",
    "$$(-1)^{f(x)}\\ket{x}$$\n",
    "\n",
    "* So whenever $f(x) = 1$, the negative factor gets applied\n",
    "\n",
    "* If you are skeptical of this, take a look at the following\n",
    "  * Recall that there are two cases and each of the two cases has its own subcase\n",
    "  * Case 1: The function is constant\n",
    "    * Case 1a: $f(0) = f(1) = 1$\n",
    "    * Case 1b: $f(0) = f(1) = 0$\n",
    "  * Case 2: The function is balanced\n",
    "    * Case 2a: $f(0) = 0, f(1) = 1$\n",
    "    * Case 2b: $f(0) = 1, f(1) = 0$\n",
    "\n",
    "* Recall that we start in the $\\ket{+}$ state for $\\ket{x}$\n",
    "\n",
    "$$(-1)^{f(x)}\\ket{x} = \\frac{(-1)^{f(x)}\\ket{0} + (-1)^{f(x)}\\ket{1} }{\\sqrt{2}}$$\n",
    "\n",
    "* If you plug in the values for the above cases, you will find the exact same results as we got from the `Deutsch's-Algorithm` notebook \n",
    "  * Remember that global phases don't matter!"
   ]
  },
  {
   "cell_type": "markdown",
   "id": "7226b845-4612-428f-b84d-e783aa0be815",
   "metadata": {},
   "source": [
    "__Credits: The math and explanation below come from [Sevag Gharibian's \"Intro to Quantum Computation: Lecture 7: The Deutsch-Jozsa and Bernstein-Vazirani algorithms](https://www.youtube.com/watch?v=eg1z-grxApI)__"
   ]
  },
  {
   "cell_type": "markdown",
   "id": "647a7986-2974-4502-91d9-515709f7a37c",
   "metadata": {},
   "source": [
    "## The Full Algorithm\n",
    "* With the simplified representation of what the function does, we can look at how the Deutsch-Jozsa algorithm works"
   ]
  },
  {
   "cell_type": "markdown",
   "id": "09caf008-f455-490c-9c44-68390fadc0db",
   "metadata": {},
   "source": [
    "* First, we start with the following input states:\n",
    "$$\\ket{0^{\\otimes n}}\\ket{1}$$"
   ]
  },
  {
   "cell_type": "markdown",
   "id": "59b530e1-82db-47f5-a5ad-28ff152845a5",
   "metadata": {},
   "source": [
    "* Now we apply a hadamard to all the bits, both meant to be input into $x$ and $y$ on $U_f$"
   ]
  },
  {
   "cell_type": "markdown",
   "id": "806973c4-42a4-4b2b-8d9c-e5ecc7cffbc9",
   "metadata": {},
   "source": [
    "* Usually, the Hadamard applied to multiple qubits in the $\\ket{0}$ configuration is expressed as so:\n",
    "$$\n",
    "H^{\\otimes n}\\ket{0^{\\otimes n}} = \\frac{1}{\\sqrt{2^n}} \\sum_{x \\in \\{0,1\\}^{n}} \\ket{x}\n",
    "$$\n",
    "* where $n$ is the number of qubits available and $x \\in \\{0,1\\}^{n}$ repersents all possible bit strings of length n (ex: 000, 001, ..., 111)\n",
    "* If you're skeptical this is correct, good on you!\n",
    "* Lets look at this way\n",
    "  * Recall the following:\n",
    "  \n",
    "$$\\ket{0^{\\otimes n}} = \\ket{0} \\otimes \\ket{0} \\otimes \\ket{0} \\cdots \\otimes \\ket{0} \\text{n times}$$\n",
    "\n",
    "* If we apply a Hadamard to every qubit...\n",
    "\n",
    "$$H^{\\otimes n}\\ket{0^{\\otimes n}} = H\\ket{0} \\otimes H\\ket{0} \\otimes H\\ket{0} \\cdots \\otimes H\\ket{0} \\text{n times}$$\n",
    "\n",
    "* We get the resulting state for all the qubits\n",
    "\n",
    "$$\\left( \\frac{\\ket{0} + \\ket{1}}{\\sqrt{2}} \\right ) \\left( \\frac{\\ket{0} + \\ket{1}}{\\sqrt{2}} \\right ) \\cdots \\left( \\frac{\\ket{0} + \\ket{1}}{\\sqrt{2}} \\right )$$\n",
    "\n",
    "* If you multiply it all together the pattern should become apparent \n",
    "  * As an exercise, try letting n = 2, which is the equivalent of applying Hadamards to two qubits\n",
    "  * Use the summation form above, as well as your pre-existing knowledge of the Hadamard gate and see what you get (it should be identical)"
   ]
  },
  {
   "cell_type": "markdown",
   "id": "d869970a-a45e-4ce0-8112-03cb6e03f823",
   "metadata": {},
   "source": [
    "* Returning back to the original algorithm, we should be in the following state:\n",
    "$$\n",
    "\\frac{1}{\\sqrt{2^n}} \\sum_{x \\in \\{0,1\\}^{n}} \\ket{x} \\ket{-}\n",
    "$$\n",
    "* Don't forget that there is a single qubit in the $\\ket{1}$ state we also applied a Hadamard to!\n",
    "  * Don't worry about it too much though, as we've shown before, all the interesting activity happens to whatever gets input to $x$ of $U_f$, the $\\ket{-}$ just allows us to experience the phase kickback"
   ]
  },
  {
   "cell_type": "markdown",
   "id": "73670c1f-39cc-433d-a499-263084c71242",
   "metadata": {},
   "source": [
    "* knowing the simplified Oracle behavior we go ahead and apply it\n",
    "$$\n",
    "\\frac{1}{\\sqrt{2^n}} \\sum_{x \\in \\{0,1\\}^{n}} (-1)^{f(x)} \\ket{x} \\ket{-}\n",
    "$$"
   ]
  },
  {
   "cell_type": "markdown",
   "id": "4c6988ac-cb56-47fc-acee-b7675099a0a9",
   "metadata": {},
   "source": [
    "* Now, we want to apply the Hadamard AGAIN to $\\ket{x}$\n",
    "$$\n",
    "\\frac{1}{\\sqrt{2^n}} \\sum_{x \\in \\{0,1\\}^{n}} (-1)^{f(x)} (H^{\\otimes n})\\ket{x} \\ket{-}\n",
    "$$"
   ]
  },
  {
   "cell_type": "markdown",
   "id": "2267a474-fdcd-41f3-a9f6-4bbcb8861044",
   "metadata": {},
   "source": [
    "* This looks like quite an intimidating formulation so lets make it easier\n",
    "* As we said earlier, $\\ket{-}$ isn't doing anything useful for us so we drop it\n",
    "$$\n",
    "\\frac{1}{\\sqrt{2^n}} \\sum_{x \\in \\{0,1\\}^{n}} (-1)^{f(x)} (H^{\\otimes n})\\ket{x}\n",
    "$$"
   ]
  },
  {
   "cell_type": "markdown",
   "id": "d8a5d4e0-6081-4dd9-b6a6-82f093fa2179",
   "metadata": {},
   "source": [
    "* Now we can't use the same definition of the Hadamard we did last time because the states we're applying the Hadamard to are no longer in the $\\ket{0^{\\otimes n}}$ state\n",
    "* But, there is a neat trick we can use if we take a closer look at what the Hadamard is doing\n",
    "* Recall that the Hadamard does the following to qubit states:\n",
    " \n",
    "$$H\\ket{0} = \\frac{\\ket{0} + \\ket{1}}{\\sqrt{2}}$$\n",
    "$$H\\ket{1} = \\frac{\\ket{0} - \\ket{1}}{\\sqrt{2}}$$"
   ]
  },
  {
   "cell_type": "markdown",
   "id": "17a4f561-4ddb-4741-a903-ccaed7660a0c",
   "metadata": {},
   "source": [
    "* Note that regardless of if we're starting with $\\ket{0}$ or $\\ket{1}$, we end up in some kind of equal superposition (so the coefficients in front of the basis states are all the same)\n",
    "* Furthermore, in that superposition if a $\\ket{1}$ is encountered, we apply a negative phase\n",
    "* This leads us to the following for a SINGLE Hadamard gate (we imagine temporarily that $\\ket{x}$ is just a single qubit)\n",
    "\n",
    "$$\n",
    "H\\ket{x} = \\frac{1}{\\sqrt{2}} \\sum_{z \\in \\{0,1\\}} (-1)^{x \\cdot z} \\ket{z}\n",
    "$$\n",
    "* The $x \\cdot z$ is just multiplication, with $z \\in \\{0,1\\}$ meaning we'll have a sum containing $\\ket{0} + \\ket{1}$ (all possible binary strings of length 1)\n",
    "* Things will make more sense if we try something out:\n",
    "\n",
    "$$\n",
    "H\\ket{1} = \\frac{1}{\\sqrt{2}} \\sum_{z \\in \\{0,1\\}} (-1)^{1 \\cdot z} \\ket{z} = \\frac{1}{\\sqrt{2}} (-1)^{1 \\cdot 0} \\ket{0} + (-1)^{1 \\cdot 1} \\ket{1} = \\frac{1}{\\sqrt{2}} (-1)^{0} \\ket{0} + (-1)^{1} \\ket{1} = \\frac{1}{\\sqrt{2}}(\\ket{0} - \\ket{1})\n",
    "$$"
   ]
  },
  {
   "cell_type": "markdown",
   "id": "ecaf362d-4c8a-49d5-aad0-d26190a9daa9",
   "metadata": {},
   "source": [
    "* Neato! But now we want to expand this for multiple qubits\n",
    "* If we do something similar to what we did earlier where we tensored a bunch of qubits together...\n",
    "\n",
    "$$H\\ket{x_1} \\otimes H\\ket{x_2} \\otimes H\\ket{x_3} \\cdots$$\n",
    "\n",
    "$$\\left( \\frac{1}{\\sqrt{2}} \\sum_{z \\in \\{0,1\\}} (-1)^{x_2 \\cdot z} \\ket{z} \\right) \\otimes \\left( \\frac{1}{\\sqrt{2}} \\sum_{z \\in \\{0,1\\}} (-1)^{x_3 \\cdot z} \\ket{z} \\right) \\otimes \\left( \\frac{1}{\\sqrt{2}} \\sum_{z \\in \\{0,1\\}} (-1)^{x_1 \\cdot z} \\ket{z} \\right) \\cdots$$"
   ]
  },
  {
   "cell_type": "markdown",
   "id": "5be1ea1b-1427-41cb-8a29-3419ef43c316",
   "metadata": {},
   "source": [
    "* You can end up with a summation that works for any n qubits\n",
    "$$H^{\\otimes n}\\ket{x^{\\otimes n}} = \\frac{1}{\\sqrt{2^n}} \\sum_{z \\in \\{0,1\\}^n} (-1)^{x \\cdot z} \\ket{z}$$\n",
    "* BE CAREFUL with $x \\cdot z$\n",
    "  * Because our input $\\ket{x}$ is composed of multiple qubits, and $z$ is now $\\in \\{0,1\\}^n$ (versus JUST 1 and 0) we are taking the dot product of the bit strings.\n",
    "  * That is, say $\\ket{x}$ is $\\ket{00}$ and, $\\ket{z}$ is $\\ket{01}$ in the summation, then when you evaluate $x \\cdot z$ you're really evaluating $x_0 \\cdot z_0 + x_1 \\cdot z_1$\n",
    "  * The Addition is modulo 2 (or XOR if you like) which means that $1 + 1 = 0$"
   ]
  },
  {
   "cell_type": "markdown",
   "id": "39dee023-c7dd-4579-bdf1-70aca379b68f",
   "metadata": {},
   "source": [
    "* With our new expression for the Hadamard, we plug it back in to get:\n",
    "    \n",
    "$$\n",
    "\\frac{1}{\\sqrt{2^n}} \\sum_{x \\in \\{0,1\\}^{n}} (-1)^{f(x)} \\frac{1}{\\sqrt{2^n}} \\sum_{z \\in \\{0, 1\\}^n} (-1)^{x \\cdot z} \\ket{z}\n",
    "$$"
   ]
  },
  {
   "cell_type": "markdown",
   "id": "8de1cb00-23d4-4866-ad67-d9f1095f4d0c",
   "metadata": {},
   "source": [
    "* Simplifying\n",
    "$$\\frac{1}{2^n} \\sum_{z} \\sum_{x} (-1)^{f(x) + x \\cdot z} \\ket{z}$$\n",
    "* The ranges for $x$ and $z$ have been omitted for brevity, but are still the same\n",
    "* Note that the order of the $x$ and $z$ summation have been flipped but this still gives the correct answer\n",
    "  * Sevag Gharibian does this in the video, there doesn't seem to be a major motivation for this but I have decided to adhere to his style should you decide to consult the original video"
   ]
  },
  {
   "cell_type": "markdown",
   "id": "7895e896-7540-4006-8088-8be7095ca061",
   "metadata": {},
   "source": [
    "* With the final expression let's take a look at the two cases\n",
    "* Case 1: f(x) is constant\n",
    "  * In this case, that means that f(x) has the same value for all x and we can treat it as a constant, allowing it to be factored out\n",
    "$$(-1)^{f(x)} \\frac{1}{2^n} \\sum_{z} \\sum_{x} (-1)^{ x \\cdot z} \\ket{z}$$\n",
    "  * Notice that with $z$ as the exterior sum, we can treat it as being fixed while $x$ changes\n",
    "  * Special attention should be paid to the (-1) factor. Note that for almost all values of $z$, there will be an equal number of (-1) and (1) factors that get added, leading to the phase being 0 and as a result, the $\\ket{z}$ not being measured\n",
    "  * I say ALMOST ALL because when $z = \\ket{0^{\\otimes n}}$ the ${x \\cdot z}$ gives the result of 0, meaning you have a 100% chance of measuring the all 0 state and nothing else!\n",
    "\n",
    "* Case 2: f(x) is balanced\n",
    "  * If we think about this, we want to measure something that is NOT $$\\ket{0^{\\otimes n}}$$\n",
    "  * Note that unlike Case 1, we CANNOT factor out the $f(x)$ because its value is subject to whatever $x$ is\n",
    "  * However, if we plug in the all zero state and evaluate what $f(x) + x \\cdot z$ is we find that the probability of measuring it is 0!"
   ]
  },
  {
   "cell_type": "code",
   "execution_count": null,
   "id": "06d105ea-658d-4f85-b4c4-6284c591a909",
   "metadata": {},
   "outputs": [],
   "source": []
  }
 ],
 "metadata": {
  "kernelspec": {
   "display_name": "Python 3 (ipykernel)",
   "language": "python",
   "name": "python3"
  },
  "language_info": {
   "codemirror_mode": {
    "name": "ipython",
    "version": 3
   },
   "file_extension": ".py",
   "mimetype": "text/x-python",
   "name": "python",
   "nbconvert_exporter": "python",
   "pygments_lexer": "ipython3",
   "version": "3.9.7"
  }
 },
 "nbformat": 4,
 "nbformat_minor": 5
}
