{
 "cells": [
  {
   "cell_type": "markdown",
   "id": "49a71ed1-2618-4f70-b17e-a96d7bb1c219",
   "metadata": {},
   "source": [
    "$$\n",
    "\\newcommand{\\ket}[1]{\\left|{#1}\\right\\rangle}\n",
    "\\newcommand{\\bra}[1]{\\left\\langle{#1}\\right|}\n",
    "\\newcommand{\\braket}[2]{\\left\\langle{#1}\\middle|{#2}\\right\\rangle}\n",
    "$$"
   ]
  },
  {
   "cell_type": "markdown",
   "id": "72886f6b-b765-40eb-b536-bc30712ff28a",
   "metadata": {},
   "source": [
    "# Deutsch's Algorithm (Continued from last Workshop)"
   ]
  },
  {
   "cell_type": "markdown",
   "id": "6a0732bc-210d-43bc-be69-1f631768b677",
   "metadata": {},
   "source": [
    "* Recall that we are given a function that can either return 0 or 1 and takes 0 or 1 for its input\n",
    "* Furthermore, the function can be one of two types\n",
    "  * Balanced - the function returns 0 for one input, but 1 for another\n",
    "  * Constant - the function returns 1 or 0 for ALL input values\n",
    "* Classically, a computer would need to execute the function twice\n",
    "* But with a quantum computer, we just need to perform ONE execution of the function\n",
    "  * The trick lays in setting the input up in a special kind of superposition and understanding how \"phase kickback\" works"
   ]
  },
  {
   "cell_type": "markdown",
   "id": "4aed6e90-0c01-4de1-8001-d3199d9f14fc",
   "metadata": {},
   "source": [
    "* Here's the algorithm represented as a quantum circuit\n",
    "* Image Source: Nielsen & Chuang, \"Quantum computation and Quantum Information\", pg. 33\n",
    "![Deutsch Circuit](images/Deutsch.png)"
   ]
  },
  {
   "cell_type": "markdown",
   "id": "b6959d5e-57a9-4d8e-891d-7fe8b9d78e80",
   "metadata": {},
   "source": [
    "Recall oracle has the following effect\n",
    "$$U_f\\ket{x}\\ket{y} = U_f\\ket{x}\\ket{y \\oplus f(x)}$$\n",
    "Where $\\oplus$ is addition mod 2 or the `XOR` (exclusive OR) operation"
   ]
  },
  {
   "cell_type": "markdown",
   "id": "fa2d0555-aca3-4ae3-afb3-d3852802b028",
   "metadata": {},
   "source": [
    "Credits: The math seen below comes from **[Bruce J. Maclennan, Associate Professor Emeritus @ University of Tennessee - Knoxville](https://web.eecs.utk.edu/~bmaclenn/Classes/494-594-UC-F17/handouts/LNUC-III.D.1.pdf)**"
   ]
  },
  {
   "cell_type": "markdown",
   "id": "05795434-a366-4671-b00e-006b0992b25c",
   "metadata": {},
   "source": [
    "## Constant Case\n",
    "* Regardless of input, function returns either 0 or 1 for ALL inputs\n",
    "\n",
    "* Initially we have $\\ket{+}\\ket{-} = \\ket{+-}$, which comes from applying the Hadamard to $\\ket{0}$ and $\\ket{1}$\n",
    "* This is equivalent to:\n",
    "$$\n",
    "\\left(\\frac{\\ket{0} + \\ket{1}}{\\sqrt{2}}\\right)\n",
    "\\left(\\frac{\\ket{0} - \\ket{1}}{\\sqrt{2}}\\right)\n",
    "$$"
   ]
  },
  {
   "cell_type": "markdown",
   "id": "597bb1b2-9e68-4c42-859a-640c5e65e816",
   "metadata": {},
   "source": [
    "* multiply everything out\n",
    "$$\\frac{1}{2}(\\ket{00} - \\ket{01} + \\ket{10} - \\ket{11})$$"
   ]
  },
  {
   "cell_type": "markdown",
   "id": "7452324c-8721-4817-8214-a92a5aa9c4d6",
   "metadata": {},
   "source": [
    "* Apply $U_f$ (remember the property that all gates/operators have, linearity. Thus, we can apply the gate to each of the underlying basis states\n",
    "$$\\frac{1}{2} \\ket{0}\\ket{0 \\oplus f(0)} - \\ket{0}\\ket{1 \\oplus f(0)} + \\ket{1}\\ket{0}\\ket{0 \\oplus f(1)} - \\ket{1}\\ket{1 \\oplus f(1)}$$"
   ]
  },
  {
   "cell_type": "markdown",
   "id": "6cf9d73b-eec9-4aa7-8a59-24469e00facb",
   "metadata": {},
   "source": [
    "* Note: $ 0 \\oplus \\text{anything} = \\text{anything}$"
   ]
  },
  {
   "cell_type": "markdown",
   "id": "72f10d83-500b-4dae-90d0-eed6747d72de",
   "metadata": {},
   "source": [
    "$$\\frac{1}{2}(\\ket{0}\\ket{f(0)} - \\ket{0}\\ket{1 \\oplus f(0)} + \\ket{1}\\ket{0}\\ket{f(1)} - \\ket{1}\\ket{1 \\oplus f(1)} $$"
   ]
  },
  {
   "cell_type": "markdown",
   "id": "c5f54301-7ee7-46ea-8e58-b342c1d7ddfc",
   "metadata": {},
   "source": [
    "* We know that $f(1) = f(0)$ in the constant case"
   ]
  },
  {
   "cell_type": "markdown",
   "id": "3bcf6ec3-3ea4-453b-ae56-a1f838dcbfdf",
   "metadata": {},
   "source": [
    "$$\\frac{1}{2}(\\ket{0}\\ket{f(0)} - \\ket{0}\\ket{1 \\oplus f(0)} + \\ket{1}\\ket{0}\\ket{f(0)} - \\ket{1}\\ket{1 \\oplus f(0)})$$"
   ]
  },
  {
   "cell_type": "markdown",
   "id": "e72adb4e-a819-4904-92fe-039f90bf9d9f",
   "metadata": {},
   "source": [
    "* Factor everything out\n",
    "$$\\frac{1}{2}((\\ket{0} + \\ket{1})(\\ket{f(0)} - \\ket{1 \\oplus f(0)}))$$"
   ]
  },
  {
   "cell_type": "markdown",
   "id": "c0638a3f-552c-4cf8-ad1b-9a6116cfa34c",
   "metadata": {},
   "source": [
    "* We can return back to the seperated two qubit state\n",
    "$$\n",
    "\\left(\\frac{\\ket{0} + \\ket{1}}{\\sqrt{2}}\\right) \\left(\\frac{\\ket{f(0)} - \\ket{1 \\oplus f(0)}}{\\sqrt{2}}\\right)\n",
    "$$"
   ]
  },
  {
   "cell_type": "markdown",
   "id": "8f1195d9-8354-447f-a172-7152146d1f96",
   "metadata": {},
   "source": [
    "* There are two cases within this case that can be tested\n",
    "\n",
    "* Subcase 1: $f(0) = f(1) = 0$\n",
    " \n",
    "* We obtain the following:\n",
    "\n",
    "$$\n",
    "\\left(\\frac{\\ket{0} + \\ket{1}}{\\sqrt{2}}\\right)\n",
    "\\left(\\frac{\\ket{0} - \\ket{1}}{\\sqrt{2}}\\right)\n",
    "= \n",
    "\\ket{+}\\ket{-}\n",
    "$$\n",
    "\n",
    "* Notice that this is the same as our original input, so nothing happened\n",
    "\n",
    "* Subcase 2: $f(0) = f(1) = 1$\n",
    "\n",
    "$$\n",
    "\\left(\\frac{\\ket{0} + \\ket{1}}{\\sqrt{2}}\\right)\n",
    "\\left(\\frac{\\ket{1} - \\ket{0}}{\\sqrt{2}}\\right)\n",
    "= \n",
    "\\left(\\frac{\\ket{0} + \\ket{1}}{\\sqrt{2}}\\right)\n",
    "\\left(\\frac{-\\ket{0} + \\ket{1}}{\\sqrt{2}}\\right)\n",
    "= \n",
    "-\\left(\\frac{\\ket{0} + \\ket{1}}{\\sqrt{2}}\\right)\n",
    "\\left(\\frac{\\ket{0} - \\ket{1}}{\\sqrt{2}}\\right)\n",
    "= \n",
    "-\\ket{+}\\ket{-}\n",
    "$$\n",
    "\n",
    "* This still gives us the same content as our input BUT in the second case where the output of the function is 1, a *global phase* is introduced that can safely be ignored, as it does not impact any future measurements"
   ]
  },
  {
   "cell_type": "markdown",
   "id": "417b8f8b-d6db-49c8-b1c1-2078f97be0ff",
   "metadata": {},
   "source": [
    "* If we reapply the hadamard to the first qubit (which is consitently in the $\\ket{+}$ state), we just go back to $\\ket{0}$"
   ]
  },
  {
   "cell_type": "markdown",
   "id": "f8763b69-6e8c-4fd7-89b1-068bae8beeb1",
   "metadata": {},
   "source": [
    "## Balanced Case"
   ]
  },
  {
   "cell_type": "markdown",
   "id": "4637533b-c840-4d07-b50d-0d92b368a834",
   "metadata": {},
   "source": [
    "* In this case we have $f(0) \\neq f(1)$"
   ]
  },
  {
   "cell_type": "markdown",
   "id": "2021ebf0-0c8d-4a5e-b107-98ac72288aa1",
   "metadata": {},
   "source": [
    "* We can save some time here and re-use what we calculated earlier for the constant case\n",
    "$$\\frac{1}{2}(\\ket{0}\\ket{0 \\oplus f(0)} - \\ket{0}\\ket{1 \\oplus f(0)} + \\ket{1}\\ket{0}\\ket{0 \\oplus f(1)} - \\ket{1}\\ket{1 \\oplus f(1)})$$"
   ]
  },
  {
   "cell_type": "markdown",
   "id": "ef62e3ac-16a5-48ac-83b2-f8b8d3478ba2",
   "metadata": {},
   "source": [
    "* Note that $1 \\oplus 0 = 1$ and $1 \\oplus 1 = 0$\n",
    "* Thus, any time we see a $1 \\oplus \\text{stuff}$ we can treat it as just inverting whatever $\\text{stuff}$ is\n",
    "* So if you see $1 \\oplus f(1)$ then it's the equivalent of saying $f(0)$ and $1 \\oplus f(0)$ is equivalent to $f(1)$\n",
    "* Also, we are still using the identity that additional modulo 2 / xor of anything with 0 remains the same thing."
   ]
  },
  {
   "cell_type": "markdown",
   "id": "35fec7dd-9dd4-434b-970f-af1efd576d5c",
   "metadata": {},
   "source": [
    "$$\\frac{1}{2}(\\ket{0}\\ket{f(0)} - \\ket{0}\\ket{f(1)} + \\ket{1}\\ket{0}\\ket{f(1)} - \\ket{1}\\ket{f(0)})$$"
   ]
  },
  {
   "cell_type": "markdown",
   "id": "826f0750-16e3-4bc7-a9db-760a9400e08a",
   "metadata": {},
   "source": [
    "* We can regroup terms to get the following:\n",
    "$$\n",
    "\\frac{1}{2}(\\ket{0}(\\ket{f(0)} - \\ket{f(1)}) + \\ket{1}(\\ket{f(1)} - \\ket{f(0)}) )\n",
    "$$"
   ]
  },
  {
   "cell_type": "markdown",
   "id": "59126297-a0ac-4236-bc61-af3173eecdd4",
   "metadata": {},
   "source": [
    "* We can take the $(\\ket{f(1)} - \\ket{f(0)})$ factor and manipulate it so it looks more like the factor on the left\n",
    "  * Why bother? - Well, we want to factor out the individual qubit states to see what exactly happened to the individual qubits we put in. Furthermore, it makes it a lot easier to see what happens when we reapply the hadamard to one of the input qubits"
   ]
  },
  {
   "cell_type": "markdown",
   "id": "87f2ece0-0933-443d-8152-5163652b08d7",
   "metadata": {},
   "source": [
    "$$ (\\ket{f(1)} - \\ket{f(0)}) = -(\\ket{f(0)} + \\ket{f(1)})$$"
   ]
  },
  {
   "cell_type": "markdown",
   "id": "c9d8abbc-7c1d-489d-bfca-789d00e9b00c",
   "metadata": {},
   "source": [
    "* It is tempting to say there was a global phase lingering around but note that the negative sign *bleeds* into the larger expression\n",
    "* When we perform the regrouping to get back to the individual qubit states, the negative sign now affects the first qubit!\n",
    "\n",
    "$$\n",
    "\\frac{1}{2}((\\ket{0} - \\ket{1})(\\ket{f(0)} - \\ket{f(1)}))\n",
    "$$"
   ]
  },
  {
   "cell_type": "markdown",
   "id": "4a430f62-c831-4207-9203-b29e7c48daf5",
   "metadata": {},
   "source": [
    "* After some more simplifying we get\n",
    "$$\n",
    "\\left(\\frac{\\ket{0} - \\ket{1}}{\\sqrt{2}}\\right) \\left(\\frac{\\ket{f(0)} - \\ket{f(1)}}{\\sqrt{2}}\\right)\n",
    "$$"
   ]
  },
  {
   "cell_type": "markdown",
   "id": "fcbaea55-2a43-4a7e-8618-aa28adc01510",
   "metadata": {},
   "source": [
    "* The qubit that was originally in $\\ket{+}$ is now in $\\ket{-}$!\n",
    "\n",
    "* Once again, there are two subcases\n",
    "* Subcase 1: $f(0) = 0, f(1) = 1$\n",
    "  * We obtain\n",
    "$$\n",
    "\\left(\\frac{\\ket{0} - \\ket{1}}{\\sqrt{2}}\\right) \\left(\\frac{\\ket{0} - \\ket{1}}{\\sqrt{2}}\\right) = \\ket{-}\\ket{-}\n",
    "$$ \n",
    "\n",
    "* Quite odd, it seems that the qubit that would have been affected (the right most $\\ket{-}$, remains the same!)\n",
    "\n",
    "* What abiout Subcase 2: $f(0) = 1, f(1) = 0$?\n",
    "\n",
    "$$\n",
    "\\left(\\frac{\\ket{0} - \\ket{1}}{\\sqrt{2}}\\right) \\left(\\frac{\\ket{1} - \\ket{0}}{\\sqrt{2}}\\right) = \n",
    "-\\left(\\frac{\\ket{0} - \\ket{1}}{\\sqrt{2}}\\right) \\left(\\frac{\\ket{0} - \\ket{1}}{\\sqrt{2}}\\right) =\n",
    "-\\ket{-}\\ket{-}\n",
    "$$ \n",
    "\n",
    "* It's the same result but with just a global phase that we can forget about (: \n",
    "\n",
    "* What's going on here? It seems for the balanced case that the first qubit seems to undergo a relative phase change even though it intuitively seems like the function is supposed to change the second qubit and not the first\n",
    "* This phenomena is knonwn as __Phase Kickback__\n",
    "  * Intuitively, we expected the second qubit to undergo some kind of phase change but that phase literally got kicked up to the input qubit\n",
    "  \n",
    "* If we apply the hadamard at the end to the final qubit state of $\\ket{-}$, you end up in the $\\ket{1}$ state"
   ]
  }
 ],
 "metadata": {
  "kernelspec": {
   "display_name": "Python 3 (ipykernel)",
   "language": "python",
   "name": "python3"
  },
  "language_info": {
   "codemirror_mode": {
    "name": "ipython",
    "version": 3
   },
   "file_extension": ".py",
   "mimetype": "text/x-python",
   "name": "python",
   "nbconvert_exporter": "python",
   "pygments_lexer": "ipython3",
   "version": "3.9.7"
  }
 },
 "nbformat": 4,
 "nbformat_minor": 5
}
